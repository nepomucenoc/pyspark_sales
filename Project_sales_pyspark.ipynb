{
  "nbformat": 4,
  "nbformat_minor": 0,
  "metadata": {
    "colab": {
      "provenance": [],
      "mount_file_id": "16zHr0FgJzg7zs69idgNtfo5EPCqKO9ph",
      "authorship_tag": "ABX9TyPERbc4hmMPbmsIM0QAv0kJ",
      "include_colab_link": true
    },
    "kernelspec": {
      "name": "python3",
      "display_name": "Python 3"
    },
    "language_info": {
      "name": "python"
    }
  },
  "cells": [
    {
      "cell_type": "markdown",
      "metadata": {
        "id": "view-in-github",
        "colab_type": "text"
      },
      "source": [
        "<a href=\"https://colab.research.google.com/github/nepomucenoc/pyspark_sales/blob/main/Project_sales_pyspark.ipynb\" target=\"_parent\"><img src=\"https://colab.research.google.com/assets/colab-badge.svg\" alt=\"Open In Colab\"/></a>"
      ]
    },
    {
      "cell_type": "markdown",
      "source": [
        "# Sales Analysis with PySpark: Exploring Agriculture Sales Data\n",
        "\n",
        "## Description:\n",
        "\n",
        "This notebook leverages the powerful PySpark library to conduct an extensive analysis of sales data within the agriculture industry. The dataset used in this analysis comprises several columns, including ID, Date, Product, Quantity, Vendor, Source, Country, Transportation Method, Delivery Date, and Total.\n",
        "\n",
        "### Key Analyses:\n",
        "\n",
        "1. **Total Sales per Product**: The code calculates and presents the total sales for each product, providing an overview of the product-wise sales performance.\n",
        "\n",
        "2. **Top-Selling Products**: The notebook identifies and displays the products with the highest sales figures, aiding in the understanding of which products are driving revenue.\n",
        "\n",
        "3. **Sales Analysis by Country**: It examines the total sales aggregated by country, offering insights into geographical sales trends.\n",
        "\n",
        "4. **Sales Analysis by Origin**: This analysis focuses on the total sales categorized by the source of origin, shedding light on the influence of the product source on sales.\n",
        "\n",
        "5. **Sales Analysis by Transport Method**: The code assesses the total sales categorized by the transportation method used, providing insights into the impact of transportation on sales figures.\n",
        "\n",
        "6. **Sales Analysis Over Time**: This analysis delves into sales trends over time by calculating and presenting the total sales per year and per month. It allows for the identification of seasonal patterns and long-term sales trends.\n",
        "\n",
        "7. **Sales Analysis by Seller**: The notebook investigates the total sales attributed to each vendor, offering insights into the sales performance of individual sellers.\n",
        "\n",
        "8. **Analysis of Best-Selling Products Per Month**: It identifies and displays the products with the highest quantity sold for each month. This analysis aids in understanding which products are consistently popular throughout the year.\n",
        "\n",
        "9. **Analysis of Best-Selling Products Per Year**: This analysis focuses on identifying the best-selling products on an annual basis, providing insights into long-term product performance.\n",
        "\n",
        "This comprehensive analysis serves as a valuable resource for extracting actionable insights from agricultural sales data, enabling data-driven decision-making and strategic planning in the industry.\n"
      ],
      "metadata": {
        "id": "DRrNJBmRznFG"
      }
    },
    {
      "cell_type": "code",
      "source": [
        "!pip install pyspark"
      ],
      "metadata": {
        "colab": {
          "base_uri": "https://localhost:8080/"
        },
        "id": "qNHpbbOFoeTJ",
        "outputId": "72add0c2-5c64-4c3b-a59e-e6c35b60f2cf"
      },
      "execution_count": 2,
      "outputs": [
        {
          "output_type": "stream",
          "name": "stdout",
          "text": [
            "Collecting pyspark\n",
            "  Downloading pyspark-3.5.0.tar.gz (316.9 MB)\n",
            "\u001b[2K     \u001b[90m━━━━━━━━━━━━━━━━━━━━━━━━━━━━━━━━━━━━━━━\u001b[0m \u001b[32m316.9/316.9 MB\u001b[0m \u001b[31m4.1 MB/s\u001b[0m eta \u001b[36m0:00:00\u001b[0m\n",
            "\u001b[?25h  Preparing metadata (setup.py) ... \u001b[?25l\u001b[?25hdone\n",
            "Requirement already satisfied: py4j==0.10.9.7 in /usr/local/lib/python3.10/dist-packages (from pyspark) (0.10.9.7)\n",
            "Building wheels for collected packages: pyspark\n",
            "  Building wheel for pyspark (setup.py) ... \u001b[?25l\u001b[?25hdone\n",
            "  Created wheel for pyspark: filename=pyspark-3.5.0-py2.py3-none-any.whl size=317425344 sha256=21a79332477afcfae1582c96ceada7a62d1358b6e153fa91675c98ed64774a86\n",
            "  Stored in directory: /root/.cache/pip/wheels/41/4e/10/c2cf2467f71c678cfc8a6b9ac9241e5e44a01940da8fbb17fc\n",
            "Successfully built pyspark\n",
            "Installing collected packages: pyspark\n",
            "Successfully installed pyspark-3.5.0\n"
          ]
        }
      ]
    },
    {
      "cell_type": "code",
      "source": [
        "import pandas as pd\n",
        "from pyspark.sql import SparkSession\n",
        "from pyspark.sql.functions import sum, desc\n",
        "from pyspark.sql.functions import year, month"
      ],
      "metadata": {
        "id": "3MoGnNE5oTAl"
      },
      "execution_count": 36,
      "outputs": []
    },
    {
      "cell_type": "code",
      "source": [
        "spark = SparkSession.builder.appName(\"PySparkProject\").getOrCreate()"
      ],
      "metadata": {
        "id": "2Il0BEuIo38v"
      },
      "execution_count": 20,
      "outputs": []
    },
    {
      "cell_type": "code",
      "source": [
        "dataset = '/content/drive/MyDrive/Curso_Power_BI/AULA-03_Dashboard-Vendas/Dados_Agricultura_Pedidos_ed.xlsx'\n",
        "data = pd.read_excel(dataset)\n",
        "data.head()"
      ],
      "metadata": {
        "colab": {
          "base_uri": "https://localhost:8080/",
          "height": 206
        },
        "id": "uqAnWHU4o1Bh",
        "outputId": "e4e24bb6-6acc-4c6b-9c4d-899329ded2e5"
      },
      "execution_count": 23,
      "outputs": [
        {
          "output_type": "execute_result",
          "data": {
            "text/plain": [
              "   ID       Data Produto  Quantidade     Vendedor              Origem    País  \\\n",
              "0   1 2023-02-13  banana         461  Vendedor 25  Quinta dos Pinhais  Brasil   \n",
              "1   2 2022-08-17   limão         767  Vendedor 15  Fazenda Luz da Lua  Brasil   \n",
              "2   3 2023-05-30   limão          57  Vendedor 16  Fazenda Luz da Lua  Brasil   \n",
              "3   4 2022-07-14  banana         596  Vendedor 43       Recanto Verde  Brasil   \n",
              "4   5 2022-05-03   limão         754  Vendedor 41  Fazenda Luz da Lua  Brasil   \n",
              "\n",
              "  Método_Transporte Data_Entrega  Total  \n",
              "0          Caminhão   2023-03-15      0  \n",
              "1          Caminhão   2022-08-27   1727  \n",
              "2             Barco   2023-07-03   2264  \n",
              "3             Barco   2022-08-05      0  \n",
              "4          Caminhão   2022-05-16      0  "
            ],
            "text/html": [
              "\n",
              "  <div id=\"df-1edea202-3ebb-4020-b72a-3594378d9518\" class=\"colab-df-container\">\n",
              "    <div>\n",
              "<style scoped>\n",
              "    .dataframe tbody tr th:only-of-type {\n",
              "        vertical-align: middle;\n",
              "    }\n",
              "\n",
              "    .dataframe tbody tr th {\n",
              "        vertical-align: top;\n",
              "    }\n",
              "\n",
              "    .dataframe thead th {\n",
              "        text-align: right;\n",
              "    }\n",
              "</style>\n",
              "<table border=\"1\" class=\"dataframe\">\n",
              "  <thead>\n",
              "    <tr style=\"text-align: right;\">\n",
              "      <th></th>\n",
              "      <th>ID</th>\n",
              "      <th>Data</th>\n",
              "      <th>Produto</th>\n",
              "      <th>Quantidade</th>\n",
              "      <th>Vendedor</th>\n",
              "      <th>Origem</th>\n",
              "      <th>País</th>\n",
              "      <th>Método_Transporte</th>\n",
              "      <th>Data_Entrega</th>\n",
              "      <th>Total</th>\n",
              "    </tr>\n",
              "  </thead>\n",
              "  <tbody>\n",
              "    <tr>\n",
              "      <th>0</th>\n",
              "      <td>1</td>\n",
              "      <td>2023-02-13</td>\n",
              "      <td>banana</td>\n",
              "      <td>461</td>\n",
              "      <td>Vendedor 25</td>\n",
              "      <td>Quinta dos Pinhais</td>\n",
              "      <td>Brasil</td>\n",
              "      <td>Caminhão</td>\n",
              "      <td>2023-03-15</td>\n",
              "      <td>0</td>\n",
              "    </tr>\n",
              "    <tr>\n",
              "      <th>1</th>\n",
              "      <td>2</td>\n",
              "      <td>2022-08-17</td>\n",
              "      <td>limão</td>\n",
              "      <td>767</td>\n",
              "      <td>Vendedor 15</td>\n",
              "      <td>Fazenda Luz da Lua</td>\n",
              "      <td>Brasil</td>\n",
              "      <td>Caminhão</td>\n",
              "      <td>2022-08-27</td>\n",
              "      <td>1727</td>\n",
              "    </tr>\n",
              "    <tr>\n",
              "      <th>2</th>\n",
              "      <td>3</td>\n",
              "      <td>2023-05-30</td>\n",
              "      <td>limão</td>\n",
              "      <td>57</td>\n",
              "      <td>Vendedor 16</td>\n",
              "      <td>Fazenda Luz da Lua</td>\n",
              "      <td>Brasil</td>\n",
              "      <td>Barco</td>\n",
              "      <td>2023-07-03</td>\n",
              "      <td>2264</td>\n",
              "    </tr>\n",
              "    <tr>\n",
              "      <th>3</th>\n",
              "      <td>4</td>\n",
              "      <td>2022-07-14</td>\n",
              "      <td>banana</td>\n",
              "      <td>596</td>\n",
              "      <td>Vendedor 43</td>\n",
              "      <td>Recanto Verde</td>\n",
              "      <td>Brasil</td>\n",
              "      <td>Barco</td>\n",
              "      <td>2022-08-05</td>\n",
              "      <td>0</td>\n",
              "    </tr>\n",
              "    <tr>\n",
              "      <th>4</th>\n",
              "      <td>5</td>\n",
              "      <td>2022-05-03</td>\n",
              "      <td>limão</td>\n",
              "      <td>754</td>\n",
              "      <td>Vendedor 41</td>\n",
              "      <td>Fazenda Luz da Lua</td>\n",
              "      <td>Brasil</td>\n",
              "      <td>Caminhão</td>\n",
              "      <td>2022-05-16</td>\n",
              "      <td>0</td>\n",
              "    </tr>\n",
              "  </tbody>\n",
              "</table>\n",
              "</div>\n",
              "    <div class=\"colab-df-buttons\">\n",
              "\n",
              "  <div class=\"colab-df-container\">\n",
              "    <button class=\"colab-df-convert\" onclick=\"convertToInteractive('df-1edea202-3ebb-4020-b72a-3594378d9518')\"\n",
              "            title=\"Convert this dataframe to an interactive table.\"\n",
              "            style=\"display:none;\">\n",
              "\n",
              "  <svg xmlns=\"http://www.w3.org/2000/svg\" height=\"24px\" viewBox=\"0 -960 960 960\">\n",
              "    <path d=\"M120-120v-720h720v720H120Zm60-500h600v-160H180v160Zm220 220h160v-160H400v160Zm0 220h160v-160H400v160ZM180-400h160v-160H180v160Zm440 0h160v-160H620v160ZM180-180h160v-160H180v160Zm440 0h160v-160H620v160Z\"/>\n",
              "  </svg>\n",
              "    </button>\n",
              "\n",
              "  <style>\n",
              "    .colab-df-container {\n",
              "      display:flex;\n",
              "      gap: 12px;\n",
              "    }\n",
              "\n",
              "    .colab-df-convert {\n",
              "      background-color: #E8F0FE;\n",
              "      border: none;\n",
              "      border-radius: 50%;\n",
              "      cursor: pointer;\n",
              "      display: none;\n",
              "      fill: #1967D2;\n",
              "      height: 32px;\n",
              "      padding: 0 0 0 0;\n",
              "      width: 32px;\n",
              "    }\n",
              "\n",
              "    .colab-df-convert:hover {\n",
              "      background-color: #E2EBFA;\n",
              "      box-shadow: 0px 1px 2px rgba(60, 64, 67, 0.3), 0px 1px 3px 1px rgba(60, 64, 67, 0.15);\n",
              "      fill: #174EA6;\n",
              "    }\n",
              "\n",
              "    .colab-df-buttons div {\n",
              "      margin-bottom: 4px;\n",
              "    }\n",
              "\n",
              "    [theme=dark] .colab-df-convert {\n",
              "      background-color: #3B4455;\n",
              "      fill: #D2E3FC;\n",
              "    }\n",
              "\n",
              "    [theme=dark] .colab-df-convert:hover {\n",
              "      background-color: #434B5C;\n",
              "      box-shadow: 0px 1px 3px 1px rgba(0, 0, 0, 0.15);\n",
              "      filter: drop-shadow(0px 1px 2px rgba(0, 0, 0, 0.3));\n",
              "      fill: #FFFFFF;\n",
              "    }\n",
              "  </style>\n",
              "\n",
              "    <script>\n",
              "      const buttonEl =\n",
              "        document.querySelector('#df-1edea202-3ebb-4020-b72a-3594378d9518 button.colab-df-convert');\n",
              "      buttonEl.style.display =\n",
              "        google.colab.kernel.accessAllowed ? 'block' : 'none';\n",
              "\n",
              "      async function convertToInteractive(key) {\n",
              "        const element = document.querySelector('#df-1edea202-3ebb-4020-b72a-3594378d9518');\n",
              "        const dataTable =\n",
              "          await google.colab.kernel.invokeFunction('convertToInteractive',\n",
              "                                                    [key], {});\n",
              "        if (!dataTable) return;\n",
              "\n",
              "        const docLinkHtml = 'Like what you see? Visit the ' +\n",
              "          '<a target=\"_blank\" href=https://colab.research.google.com/notebooks/data_table.ipynb>data table notebook</a>'\n",
              "          + ' to learn more about interactive tables.';\n",
              "        element.innerHTML = '';\n",
              "        dataTable['output_type'] = 'display_data';\n",
              "        await google.colab.output.renderOutput(dataTable, element);\n",
              "        const docLink = document.createElement('div');\n",
              "        docLink.innerHTML = docLinkHtml;\n",
              "        element.appendChild(docLink);\n",
              "      }\n",
              "    </script>\n",
              "  </div>\n",
              "\n",
              "\n",
              "<div id=\"df-90bc6054-57aa-452d-ad07-f6d1447a2590\">\n",
              "  <button class=\"colab-df-quickchart\" onclick=\"quickchart('df-90bc6054-57aa-452d-ad07-f6d1447a2590')\"\n",
              "            title=\"Suggest charts.\"\n",
              "            style=\"display:none;\">\n",
              "\n",
              "<svg xmlns=\"http://www.w3.org/2000/svg\" height=\"24px\"viewBox=\"0 0 24 24\"\n",
              "     width=\"24px\">\n",
              "    <g>\n",
              "        <path d=\"M19 3H5c-1.1 0-2 .9-2 2v14c0 1.1.9 2 2 2h14c1.1 0 2-.9 2-2V5c0-1.1-.9-2-2-2zM9 17H7v-7h2v7zm4 0h-2V7h2v10zm4 0h-2v-4h2v4z\"/>\n",
              "    </g>\n",
              "</svg>\n",
              "  </button>\n",
              "\n",
              "<style>\n",
              "  .colab-df-quickchart {\n",
              "      --bg-color: #E8F0FE;\n",
              "      --fill-color: #1967D2;\n",
              "      --hover-bg-color: #E2EBFA;\n",
              "      --hover-fill-color: #174EA6;\n",
              "      --disabled-fill-color: #AAA;\n",
              "      --disabled-bg-color: #DDD;\n",
              "  }\n",
              "\n",
              "  [theme=dark] .colab-df-quickchart {\n",
              "      --bg-color: #3B4455;\n",
              "      --fill-color: #D2E3FC;\n",
              "      --hover-bg-color: #434B5C;\n",
              "      --hover-fill-color: #FFFFFF;\n",
              "      --disabled-bg-color: #3B4455;\n",
              "      --disabled-fill-color: #666;\n",
              "  }\n",
              "\n",
              "  .colab-df-quickchart {\n",
              "    background-color: var(--bg-color);\n",
              "    border: none;\n",
              "    border-radius: 50%;\n",
              "    cursor: pointer;\n",
              "    display: none;\n",
              "    fill: var(--fill-color);\n",
              "    height: 32px;\n",
              "    padding: 0;\n",
              "    width: 32px;\n",
              "  }\n",
              "\n",
              "  .colab-df-quickchart:hover {\n",
              "    background-color: var(--hover-bg-color);\n",
              "    box-shadow: 0 1px 2px rgba(60, 64, 67, 0.3), 0 1px 3px 1px rgba(60, 64, 67, 0.15);\n",
              "    fill: var(--button-hover-fill-color);\n",
              "  }\n",
              "\n",
              "  .colab-df-quickchart-complete:disabled,\n",
              "  .colab-df-quickchart-complete:disabled:hover {\n",
              "    background-color: var(--disabled-bg-color);\n",
              "    fill: var(--disabled-fill-color);\n",
              "    box-shadow: none;\n",
              "  }\n",
              "\n",
              "  .colab-df-spinner {\n",
              "    border: 2px solid var(--fill-color);\n",
              "    border-color: transparent;\n",
              "    border-bottom-color: var(--fill-color);\n",
              "    animation:\n",
              "      spin 1s steps(1) infinite;\n",
              "  }\n",
              "\n",
              "  @keyframes spin {\n",
              "    0% {\n",
              "      border-color: transparent;\n",
              "      border-bottom-color: var(--fill-color);\n",
              "      border-left-color: var(--fill-color);\n",
              "    }\n",
              "    20% {\n",
              "      border-color: transparent;\n",
              "      border-left-color: var(--fill-color);\n",
              "      border-top-color: var(--fill-color);\n",
              "    }\n",
              "    30% {\n",
              "      border-color: transparent;\n",
              "      border-left-color: var(--fill-color);\n",
              "      border-top-color: var(--fill-color);\n",
              "      border-right-color: var(--fill-color);\n",
              "    }\n",
              "    40% {\n",
              "      border-color: transparent;\n",
              "      border-right-color: var(--fill-color);\n",
              "      border-top-color: var(--fill-color);\n",
              "    }\n",
              "    60% {\n",
              "      border-color: transparent;\n",
              "      border-right-color: var(--fill-color);\n",
              "    }\n",
              "    80% {\n",
              "      border-color: transparent;\n",
              "      border-right-color: var(--fill-color);\n",
              "      border-bottom-color: var(--fill-color);\n",
              "    }\n",
              "    90% {\n",
              "      border-color: transparent;\n",
              "      border-bottom-color: var(--fill-color);\n",
              "    }\n",
              "  }\n",
              "</style>\n",
              "\n",
              "  <script>\n",
              "    async function quickchart(key) {\n",
              "      const quickchartButtonEl =\n",
              "        document.querySelector('#' + key + ' button');\n",
              "      quickchartButtonEl.disabled = true;  // To prevent multiple clicks.\n",
              "      quickchartButtonEl.classList.add('colab-df-spinner');\n",
              "      try {\n",
              "        const charts = await google.colab.kernel.invokeFunction(\n",
              "            'suggestCharts', [key], {});\n",
              "      } catch (error) {\n",
              "        console.error('Error during call to suggestCharts:', error);\n",
              "      }\n",
              "      quickchartButtonEl.classList.remove('colab-df-spinner');\n",
              "      quickchartButtonEl.classList.add('colab-df-quickchart-complete');\n",
              "    }\n",
              "    (() => {\n",
              "      let quickchartButtonEl =\n",
              "        document.querySelector('#df-90bc6054-57aa-452d-ad07-f6d1447a2590 button');\n",
              "      quickchartButtonEl.style.display =\n",
              "        google.colab.kernel.accessAllowed ? 'block' : 'none';\n",
              "    })();\n",
              "  </script>\n",
              "</div>\n",
              "    </div>\n",
              "  </div>\n"
            ]
          },
          "metadata": {},
          "execution_count": 23
        }
      ]
    },
    {
      "cell_type": "code",
      "source": [
        "data.shape"
      ],
      "metadata": {
        "colab": {
          "base_uri": "https://localhost:8080/"
        },
        "id": "pkJLBYwwsRZP",
        "outputId": "a65a0de1-d94d-42fb-c6c8-14546e08c800"
      },
      "execution_count": 24,
      "outputs": [
        {
          "output_type": "execute_result",
          "data": {
            "text/plain": [
              "(150000, 10)"
            ]
          },
          "metadata": {},
          "execution_count": 24
        }
      ]
    },
    {
      "cell_type": "code",
      "source": [
        "data.info()"
      ],
      "metadata": {
        "colab": {
          "base_uri": "https://localhost:8080/"
        },
        "id": "TpKV9eQbsVy2",
        "outputId": "770a1f0d-fe45-4b6d-f6a1-10d5eef10efd"
      },
      "execution_count": 26,
      "outputs": [
        {
          "output_type": "stream",
          "name": "stdout",
          "text": [
            "<class 'pandas.core.frame.DataFrame'>\n",
            "RangeIndex: 150000 entries, 0 to 149999\n",
            "Data columns (total 10 columns):\n",
            " #   Column             Non-Null Count   Dtype         \n",
            "---  ------             --------------   -----         \n",
            " 0   ID                 150000 non-null  int64         \n",
            " 1   Data               150000 non-null  datetime64[ns]\n",
            " 2   Produto            150000 non-null  object        \n",
            " 3   Quantidade         150000 non-null  int64         \n",
            " 4   Vendedor           150000 non-null  object        \n",
            " 5   Origem             150000 non-null  object        \n",
            " 6   País               150000 non-null  object        \n",
            " 7   Método_Transporte  150000 non-null  object        \n",
            " 8   Data_Entrega       150000 non-null  datetime64[ns]\n",
            " 9   Total              150000 non-null  int64         \n",
            "dtypes: datetime64[ns](2), int64(3), object(5)\n",
            "memory usage: 11.4+ MB\n"
          ]
        }
      ]
    },
    {
      "cell_type": "code",
      "source": [
        "df = spark.createDataFrame(data)"
      ],
      "metadata": {
        "id": "f9NpcB3ZsL19"
      },
      "execution_count": 25,
      "outputs": []
    },
    {
      "cell_type": "code",
      "source": [
        "df.head()"
      ],
      "metadata": {
        "colab": {
          "base_uri": "https://localhost:8080/"
        },
        "id": "mmQqf5OOshwF",
        "outputId": "cd9fc27a-977f-4c57-f60d-bc6c555466a3"
      },
      "execution_count": 27,
      "outputs": [
        {
          "output_type": "execute_result",
          "data": {
            "text/plain": [
              "Row(ID=1, Data=datetime.datetime(2023, 2, 13, 0, 0), Produto='banana', Quantidade=461, Vendedor='Vendedor 25', Origem='Quinta dos Pinhais', País='Brasil', Método_Transporte='Caminhão', Data_Entrega=datetime.datetime(2023, 3, 15, 0, 0), Total=0)"
            ]
          },
          "metadata": {},
          "execution_count": 27
        }
      ]
    },
    {
      "cell_type": "code",
      "source": [
        "df.show()"
      ],
      "metadata": {
        "colab": {
          "base_uri": "https://localhost:8080/"
        },
        "id": "fTNPLUubsj0K",
        "outputId": "50cd2162-256f-4948-dc17-d102bbd479b1"
      },
      "execution_count": 28,
      "outputs": [
        {
          "output_type": "stream",
          "name": "stdout",
          "text": [
            "+---+-------------------+-------+----------+-----------+------------------+------+-----------------+-------------------+-----+\n",
            "| ID|               Data|Produto|Quantidade|   Vendedor|            Origem|  País|Método_Transporte|       Data_Entrega|Total|\n",
            "+---+-------------------+-------+----------+-----------+------------------+------+-----------------+-------------------+-----+\n",
            "|  1|2023-02-13 00:00:00| banana|       461|Vendedor 25|Quinta dos Pinhais|Brasil|         Caminhão|2023-03-15 00:00:00|    0|\n",
            "|  2|2022-08-17 00:00:00|  limão|       767|Vendedor 15|Fazenda Luz da Lua|Brasil|         Caminhão|2022-08-27 00:00:00| 1727|\n",
            "|  3|2023-05-30 00:00:00|  limão|        57|Vendedor 16|Fazenda Luz da Lua|Brasil|            Barco|2023-07-03 00:00:00| 2264|\n",
            "|  4|2022-07-14 00:00:00| banana|       596|Vendedor 43|     Recanto Verde|Brasil|            Barco|2022-08-05 00:00:00|    0|\n",
            "|  5|2022-05-03 00:00:00|  limão|       754|Vendedor 41|Fazenda Luz da Lua|Brasil|         Caminhão|2022-05-16 00:00:00|    0|\n",
            "|  6|2023-11-27 00:00:00| banana|       913| Vendedor 7|     Recanto Verde|Brasil|         Caminhão|2023-12-16 00:00:00| 1392|\n",
            "|  7|2022-11-14 00:00:00|    uva|       471| Vendedor 6|Sítio Águas Claras|Brasil|         Caminhão|2022-12-18 00:00:00| 2740|\n",
            "|  8|2022-01-04 00:00:00|  limão|       342|Vendedor 39|Fazenda Luz da Lua|Brasil|         Caminhão|2022-02-05 00:00:00| 1514|\n",
            "|  9|2022-10-27 00:00:00|  limão|       462|Vendedor 45|Fazenda Luz da Lua|Brasil|         Caminhão|2022-11-30 00:00:00| 2570|\n",
            "| 10|2023-05-09 00:00:00|  limão|        58|Vendedor 48|Fazenda Luz da Lua|Brasil|         Caminhão|2023-05-30 00:00:00|  260|\n",
            "| 11|2023-10-17 00:00:00|    uva|       484|Vendedor 41|   Refúgio do Vale|Brasil|            Avião|2023-11-02 00:00:00| 1809|\n",
            "| 12|2023-11-18 00:00:00|  limão|        89|Vendedor 26|Fazenda Luz da Lua|Brasil|         Caminhão|2023-12-11 00:00:00|    0|\n",
            "| 13|2023-06-21 00:00:00|   maçã|       854|Vendedor 23|Chácara Bela Vista|Brasil|            Avião|2023-07-02 00:00:00| 2920|\n",
            "| 14|2023-02-24 00:00:00|    uva|       128|Vendedor 38|Sítio Águas Claras|Brasil|            Avião|2023-03-17 00:00:00|    0|\n",
            "| 15|2022-07-13 00:00:00| banana|       595|Vendedor 49|Quinta dos Pinhais|Brasil|         Caminhão|2022-07-27 00:00:00|  202|\n",
            "| 16|2022-12-21 00:00:00|   maçã|        48|Vendedor 42|Chácara Bela Vista|Brasil|         Caminhão|2023-01-12 00:00:00| 1050|\n",
            "| 17|2023-05-18 00:00:00|  limão|       311|Vendedor 29|Fazenda Luz da Lua|Brasil|            Avião|2023-05-26 00:00:00| 2238|\n",
            "| 18|2023-10-12 00:00:00|    uva|       874| Vendedor 4|   Refúgio do Vale|Brasil|            Barco|2023-11-11 00:00:00| 1736|\n",
            "| 19|2022-06-05 00:00:00|  limão|       218|Vendedor 45|Fazenda Luz da Lua|Brasil|         Caminhão|2022-07-06 00:00:00| 1741|\n",
            "| 20|2023-12-25 00:00:00|    uva|       282|Vendedor 20|Sítio Águas Claras|Brasil|         Caminhão|2024-01-22 00:00:00|    0|\n",
            "+---+-------------------+-------+----------+-----------+------------------+------+-----------------+-------------------+-----+\n",
            "only showing top 20 rows\n",
            "\n"
          ]
        }
      ]
    },
    {
      "cell_type": "code",
      "source": [
        "total_sales_per_product = df.groupBy(\"Produto\").agg(sum(\"Total\").alias(\"TotalSales\"))\n",
        "total_sales_per_product.show()"
      ],
      "metadata": {
        "colab": {
          "base_uri": "https://localhost:8080/"
        },
        "id": "jnze5DFmsbhX",
        "outputId": "1bef2985-4ce7-460c-c8a9-1ff0371af54e"
      },
      "execution_count": 29,
      "outputs": [
        {
          "output_type": "stream",
          "name": "stdout",
          "text": [
            "+--------+----------+\n",
            "| Produto|TotalSales|\n",
            "+--------+----------+\n",
            "|     uva|  35495246|\n",
            "|  banana|  43967669|\n",
            "|   limão|  59030619|\n",
            "| laranja|  21899642|\n",
            "|melancia|   5833903|\n",
            "|    maçã|  45302315|\n",
            "|   manga|  22807740|\n",
            "+--------+----------+\n",
            "\n"
          ]
        }
      ]
    },
    {
      "cell_type": "code",
      "source": [
        "top_selling_products = total_sales_per_product.orderBy(desc(\"TotalSales\"))\n",
        "top_selling_products.show()"
      ],
      "metadata": {
        "colab": {
          "base_uri": "https://localhost:8080/"
        },
        "id": "H36vTRpKtBWE",
        "outputId": "6e98b77a-afab-4556-e72b-3a872dfa43fa"
      },
      "execution_count": 30,
      "outputs": [
        {
          "output_type": "stream",
          "name": "stdout",
          "text": [
            "+--------+----------+\n",
            "| Produto|TotalSales|\n",
            "+--------+----------+\n",
            "|   limão|  59030619|\n",
            "|    maçã|  45302315|\n",
            "|  banana|  43967669|\n",
            "|     uva|  35495246|\n",
            "|   manga|  22807740|\n",
            "| laranja|  21899642|\n",
            "|melancia|   5833903|\n",
            "+--------+----------+\n",
            "\n"
          ]
        }
      ]
    },
    {
      "cell_type": "code",
      "source": [
        "# Sales Analysis by Country\n",
        "sales_pais = df.groupBy(\"País\").agg(sum(\"Total\").alias(\"TotalVendasPorPaís\"))\n",
        "sales_pais.show()"
      ],
      "metadata": {
        "colab": {
          "base_uri": "https://localhost:8080/"
        },
        "id": "aJcar9AFtJC9",
        "outputId": "ef5555f4-a5d5-4233-a849-60991c85077d"
      },
      "execution_count": 33,
      "outputs": [
        {
          "output_type": "stream",
          "name": "stdout",
          "text": [
            "+--------------+------------------+\n",
            "|          País|TotalVendasPorPaís|\n",
            "+--------------+------------------+\n",
            "|         China|          24721186|\n",
            "|Estados Unidos|          32650001|\n",
            "|        Brasil|          98477108|\n",
            "|        Canadá|           4920215|\n",
            "|        França|           5075538|\n",
            "|      Alemanha|           4784230|\n",
            "| Países Baixos|           5021305|\n",
            "|     Argentina|           4847367|\n",
            "|        Rússia|           4904669|\n",
            "|       Bélgica|           4910281|\n",
            "| Coreia do Sul|           5033520|\n",
            "|         Chile|           4977875|\n",
            "|       Espanha|           4893520|\n",
            "|Arábia Saudita|           4740448|\n",
            "|         Índia|           4864602|\n",
            "|   Reino Unido|           5012362|\n",
            "|        Itália|           4857888|\n",
            "|        México|           4833066|\n",
            "|         Japão|           4811953|\n",
            "+--------------+------------------+\n",
            "\n"
          ]
        }
      ]
    },
    {
      "cell_type": "code",
      "source": [
        "# Sales Analysis by Origin:\n",
        "sales_origin = df.groupBy(\"Origem\").agg(sum(\"Total\").alias(\"TotalVendasPorOrigem\"))\n",
        "sales_origin.show()"
      ],
      "metadata": {
        "colab": {
          "base_uri": "https://localhost:8080/"
        },
        "id": "Mbny1zBhyYlV",
        "outputId": "3ec3f28d-dfe9-400d-8c75-dd55cebf6083"
      },
      "execution_count": 32,
      "outputs": [
        {
          "output_type": "stream",
          "name": "stdout",
          "text": [
            "+--------------------+--------------------+\n",
            "|              Origem|TotalVendasPorOrigem|\n",
            "+--------------------+--------------------+\n",
            "|Fazenda Campo Sereno|             5833903|\n",
            "|  Sítio Águas Claras|            17905583|\n",
            "|Rancho Estrela Ca...|            11301872|\n",
            "|  Quinta dos Pinhais|            32916831|\n",
            "|     Refúgio do Vale|            17589663|\n",
            "|       Recanto Verde|            32950480|\n",
            "|Fazenda Sol Nascente|            11505868|\n",
            "|     Terra Prometida|            22644610|\n",
            "|  Chácara Bela Vista|            22657705|\n",
            "|  Fazenda Luz da Lua|            59030619|\n",
            "+--------------------+--------------------+\n",
            "\n"
          ]
        }
      ]
    },
    {
      "cell_type": "code",
      "source": [
        "# Sales Analysis by Transport Method:\n",
        "sales_transporte = df.groupBy(\"Método_Transporte\").agg(sum(\"Total\").alias(\"TotalVendasPorTransporte\"))\n",
        "sales_transporte.show()"
      ],
      "metadata": {
        "colab": {
          "base_uri": "https://localhost:8080/"
        },
        "id": "pVhkZJLayp46",
        "outputId": "948cff3a-8dce-4b76-f3e1-1e31cb467d2b"
      },
      "execution_count": 34,
      "outputs": [
        {
          "output_type": "stream",
          "name": "stdout",
          "text": [
            "+-----------------+------------------------+\n",
            "|Método_Transporte|TotalVendasPorTransporte|\n",
            "+-----------------+------------------------+\n",
            "|             Trem|                12016990|\n",
            "|            Barco|                35278037|\n",
            "|         Caminhão|               105241703|\n",
            "|            Avião|                81800404|\n",
            "+-----------------+------------------------+\n",
            "\n"
          ]
        }
      ]
    },
    {
      "cell_type": "code",
      "source": [
        "# Sales Analysis Over Time:\n",
        "df = df.withColumn(\"Ano\", year(\"Data\"))\n",
        "df = df.withColumn(\"Mês\", month(\"Data\"))\n",
        "\n",
        "vendas_por_ano = df.groupBy(\"Ano\").agg(sum(\"Total\").alias(\"TotalVendasPorAno\"))\n",
        "vendas_por_ano.show()\n",
        "\n",
        "vendas_por_mês = df.groupBy(\"Mês\").agg(sum(\"Total\").alias(\"TotalVendasPorMês\"))\n",
        "vendas_por_mês.show()"
      ],
      "metadata": {
        "colab": {
          "base_uri": "https://localhost:8080/"
        },
        "id": "ib3COp9qyxOm",
        "outputId": "d4fb5eab-eebd-4389-f58f-c0346a7d0e09"
      },
      "execution_count": 37,
      "outputs": [
        {
          "output_type": "stream",
          "name": "stdout",
          "text": [
            "+----+-----------------+\n",
            "| Ano|TotalVendasPorAno|\n",
            "+----+-----------------+\n",
            "|2023|        116033736|\n",
            "|2022|        118303398|\n",
            "+----+-----------------+\n",
            "\n",
            "+---+-----------------+\n",
            "|Mês|TotalVendasPorMês|\n",
            "+---+-----------------+\n",
            "| 12|         22989576|\n",
            "|  1|         22586987|\n",
            "|  6|         17470470|\n",
            "|  3|         17979121|\n",
            "|  5|         17235750|\n",
            "|  9|         15965449|\n",
            "|  4|         21486760|\n",
            "|  8|         19051911|\n",
            "|  7|         19393913|\n",
            "| 10|         17831044|\n",
            "| 11|         19480781|\n",
            "|  2|         22865372|\n",
            "+---+-----------------+\n",
            "\n"
          ]
        }
      ]
    },
    {
      "cell_type": "code",
      "source": [
        "# Sales Analysis by Seller:\n",
        "sales_seller = df.groupBy(\"Vendedor\").agg(sum(\"Total\").alias(\"TotalVendasPorVendedor\"))\n",
        "sales_seller.show()"
      ],
      "metadata": {
        "colab": {
          "base_uri": "https://localhost:8080/"
        },
        "id": "AsQMerf4y2_j",
        "outputId": "c42468b7-4db3-4bee-a5d1-eb89b024a985"
      },
      "execution_count": 38,
      "outputs": [
        {
          "output_type": "stream",
          "name": "stdout",
          "text": [
            "+-----------+----------------------+\n",
            "|   Vendedor|TotalVendasPorVendedor|\n",
            "+-----------+----------------------+\n",
            "| Vendedor 7|               4711157|\n",
            "|Vendedor 25|               4783711|\n",
            "|Vendedor 43|               4694139|\n",
            "| Vendedor 4|               4798053|\n",
            "|Vendedor 39|               4756994|\n",
            "|Vendedor 31|               4714930|\n",
            "|Vendedor 30|               4839073|\n",
            "|Vendedor 29|               4576073|\n",
            "|Vendedor 36|               4979394|\n",
            "|Vendedor 18|               4491721|\n",
            "|Vendedor 32|               4587185|\n",
            "| Vendedor 3|               4730516|\n",
            "| Vendedor 6|               4772666|\n",
            "| Vendedor 9|               4733441|\n",
            "|Vendedor 33|               4685733|\n",
            "| Vendedor 8|               4543889|\n",
            "|Vendedor 48|               4606096|\n",
            "|Vendedor 34|               4819318|\n",
            "|Vendedor 47|               4475384|\n",
            "|Vendedor 16|               4761647|\n",
            "+-----------+----------------------+\n",
            "only showing top 20 rows\n",
            "\n"
          ]
        }
      ]
    },
    {
      "cell_type": "code",
      "source": [
        "# Analysis of best-selling products per month:\n",
        "most_sold_products_per_month = df.groupBy(\"Mês\", \"Produto\").agg(sum(\"Quantidade\").alias(\"TotalQuantidade\"))\n",
        "most_sold_products_per_month = most_sold_products_per_month.orderBy(\"Mês\", desc(\"TotalQuantidade\"))\n",
        "most_sold_products_per_month.show()"
      ],
      "metadata": {
        "colab": {
          "base_uri": "https://localhost:8080/"
        },
        "id": "B6W3O00ozNCt",
        "outputId": "36e9c6ac-f970-4ec8-b629-fc1c71a8fdd2"
      },
      "execution_count": 39,
      "outputs": [
        {
          "output_type": "stream",
          "name": "stdout",
          "text": [
            "+---+--------+---------------+\n",
            "|Mês| Produto|TotalQuantidade|\n",
            "+---+--------+---------------+\n",
            "|  1|    maçã|        1784047|\n",
            "|  1|  banana|        1652471|\n",
            "|  1|     uva|        1337403|\n",
            "|  1|   limão|        1084299|\n",
            "|  1| laranja|         824073|\n",
            "|  1|   manga|         441787|\n",
            "|  1|melancia|         118326|\n",
            "|  2|    maçã|        1794325|\n",
            "|  2|  banana|        1655686|\n",
            "|  2|     uva|        1327754|\n",
            "|  2|   limão|        1130018|\n",
            "|  2| laranja|         840687|\n",
            "|  2|   manga|         449971|\n",
            "|  2|melancia|         117265|\n",
            "|  3|  banana|        1690865|\n",
            "|  3|   limão|        1063169|\n",
            "|  3|    maçã|         918301|\n",
            "|  3| laranja|         845772|\n",
            "|  3|     uva|         668420|\n",
            "|  3|   manga|         427831|\n",
            "+---+--------+---------------+\n",
            "only showing top 20 rows\n",
            "\n"
          ]
        }
      ]
    },
    {
      "cell_type": "code",
      "source": [
        "# Analysis of best-selling products per year:\n",
        "most_sold_products_per_year = df.groupBy(\"Ano\", \"Produto\").agg(sum(\"Quantidade\").alias(\"TotalQuantidade\"))\n",
        "most_sold_products_per_year = most_sold_products_per_year.orderBy(\"Ano\", desc(\"TotalQuantidade\"))\n",
        "most_sold_products_per_year.show()"
      ],
      "metadata": {
        "colab": {
          "base_uri": "https://localhost:8080/"
        },
        "id": "sWzZW2IQzUOv",
        "outputId": "3116be78-b5eb-4bee-be76-1efe5f563cee"
      },
      "execution_count": 40,
      "outputs": [
        {
          "output_type": "stream",
          "name": "stdout",
          "text": [
            "+----+--------+---------------+\n",
            "| Ano| Produto|TotalQuantidade|\n",
            "+----+--------+---------------+\n",
            "|2022|   limão|        9348381|\n",
            "|2022|    maçã|        7218199|\n",
            "|2022|  banana|        7075755|\n",
            "|2022|     uva|        5704824|\n",
            "|2022|   manga|        3636126|\n",
            "|2022| laranja|        3536242|\n",
            "|2022|melancia|         949955|\n",
            "|2023|   limão|        9456938|\n",
            "|2023|    maçã|        7233703|\n",
            "|2023|  banana|        7121174|\n",
            "|2023|     uva|        5653322|\n",
            "|2023|   manga|        3665168|\n",
            "|2023| laranja|        3536676|\n",
            "|2023|melancia|         940376|\n",
            "+----+--------+---------------+\n",
            "\n"
          ]
        }
      ]
    },
    {
      "cell_type": "code",
      "source": [
        "most_sold_products_per_year.printSchema()"
      ],
      "metadata": {
        "colab": {
          "base_uri": "https://localhost:8080/"
        },
        "id": "Dyq9mTM7AfJW",
        "outputId": "de4775de-12e0-456f-f318-7f32a6689b7c"
      },
      "execution_count": 43,
      "outputs": [
        {
          "output_type": "stream",
          "name": "stdout",
          "text": [
            "root\n",
            " |-- Ano: integer (nullable = true)\n",
            " |-- Produto: string (nullable = true)\n",
            " |-- TotalQuantidade: long (nullable = true)\n",
            "\n"
          ]
        }
      ]
    },
    {
      "cell_type": "code",
      "source": [
        "import datetime"
      ],
      "metadata": {
        "id": "5JvaO-obM5Sf"
      },
      "execution_count": 45,
      "outputs": []
    },
    {
      "cell_type": "code",
      "source": [
        "days_list = [datetime.datetime(2023, 9, 1, 0, 0), datetime.datetime(2023, 9, 2, 0, 0), datetime.datetime(2023, 9, 3, 0, 0), datetime.datetime(2023, 9, 4, 0, 0), datetime.datetime(2023, 9, 5, 0, 0), datetime.datetime(2023, 9, 6, 0, 0), datetime.datetime(2023, 9, 7, 0, 0), datetime.datetime(2023, 9, 8, 0, 0), datetime.datetime(2023, 9, 9, 0, 0), datetime.datetime(2023, 9, 10, 0, 0), datetime.datetime(2023, 9, 11, 0, 0), datetime.datetime(2023, 9, 12, 0, 0), datetime.datetime(2023, 9, 13, 0, 0), datetime.datetime(2023, 9, 14, 0, 0), datetime.datetime(2023, 9, 15, 0, 0), datetime.datetime(2023, 9, 16, 0, 0), datetime.datetime(2023, 9, 17, 0, 0), datetime.datetime(2023, 9, 18, 0, 0), datetime.datetime(2023, 9, 19, 0, 0), datetime.datetime(2023, 9, 20, 0, 0), datetime.datetime(2023, 9, 21, 0, 0), datetime.datetime(2023, 9, 22, 0, 0), datetime.datetime(2023, 9, 23, 0, 0), datetime.datetime(2023, 9, 24, 0, 0), datetime.datetime(2023, 9, 25, 0, 0), datetime.datetime(2023, 9, 26, 0, 0), datetime.datetime(2023, 9, 27, 0, 0), datetime.datetime(2023, 9, 28, 0, 0), datetime.datetime(2023, 9, 29, 0, 0), datetime.datetime(2023, 9, 30, 0, 0)]"
      ],
      "metadata": {
        "id": "hae3PK_YMzu7"
      },
      "execution_count": 46,
      "outputs": []
    },
    {
      "cell_type": "code",
      "source": [
        "days = list(set([date.replace(day=1) for date in days_list]))\n",
        "days"
      ],
      "metadata": {
        "colab": {
          "base_uri": "https://localhost:8080/"
        },
        "id": "yUtFOQwsM8ee",
        "outputId": "1004eda6-59cb-409b-b6f7-325797060b88"
      },
      "execution_count": 49,
      "outputs": [
        {
          "output_type": "execute_result",
          "data": {
            "text/plain": [
              "[datetime.datetime(2023, 9, 1, 0, 0)]"
            ]
          },
          "metadata": {},
          "execution_count": 49
        }
      ]
    }
  ]
}